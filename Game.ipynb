{
 "cells": [
  {
   "cell_type": "code",
   "metadata": {
    "tags": [],
    "cell_id": "00001-fb23ce9c-2455-441c-8642-4d38a61ef2e8",
    "deepnote_to_be_reexecuted": false,
    "source_hash": "553ce5d5",
    "execution_start": 1636837405062,
    "execution_millis": 9261,
    "deepnote_cell_type": "code"
   },
   "source": "!pip install emoji\n!pip install simple-colors",
   "execution_count": null,
   "outputs": [
    {
     "name": "stdout",
     "text": "Collecting emoji\n  Downloading emoji-1.6.1.tar.gz (170 kB)\n\u001b[K     |████████████████████████████████| 170 kB 17.9 MB/s \n\u001b[?25hBuilding wheels for collected packages: emoji\n  Building wheel for emoji (setup.py) ... \u001b[?25ldone\n\u001b[?25h  Created wheel for emoji: filename=emoji-1.6.1-py3-none-any.whl size=169314 sha256=db6f36f0e2c650c1c7594552242fa4e580dcc401c20d4fb0fc85fc9704d63327\n  Stored in directory: /root/.cache/pip/wheels/ea/5f/d3/03d313ddb3c2a1a427bb4690f1621eea60fe6f2a30cc95940f\nSuccessfully built emoji\nInstalling collected packages: emoji\nSuccessfully installed emoji-1.6.1\n\u001b[33mWARNING: You are using pip version 21.2.4; however, version 21.3.1 is available.\nYou should consider upgrading via the '/root/venv/bin/python -m pip install --upgrade pip' command.\u001b[0m\nRequirement already satisfied: simple-colors in /root/venv/lib/python3.7/site-packages (0.1.5)\n\u001b[33mWARNING: You are using pip version 21.2.4; however, version 21.3.1 is available.\nYou should consider upgrading via the '/root/venv/bin/python -m pip install --upgrade pip' command.\u001b[0m\n",
     "output_type": "stream"
    }
   ]
  },
  {
   "cell_type": "code",
   "metadata": {
    "tags": [],
    "deepnote_to_be_reexecuted": false,
    "source_hash": "44e291d9",
    "execution_start": 1636837420068,
    "execution_millis": 37,
    "cell_id": "00000-7dea6e07-52ad-42be-a46d-cbdd3154536f",
    "deepnote_cell_type": "code"
   },
   "source": "import operator\nimport json\nimport emoji\nfrom simple_colors import *\nfrom hangman_functions import *\nfrom hangman_drawings import *",
   "execution_count": null,
   "outputs": []
  },
  {
   "cell_type": "code",
   "metadata": {
    "tags": [],
    "cell_id": "00002-0ee2f262-3dd8-41c8-9430-88e5c97e8ace",
    "deepnote_to_be_reexecuted": false,
    "source_hash": "81db4fe5",
    "execution_start": 1636837429193,
    "execution_millis": 0,
    "deepnote_cell_type": "code"
   },
   "source": "# game welcome function\n\ndef welcome(pseudo, code, scores):\n    if pseudo in [key for (key, value) in scores.items() if key == pseudo]:  # check if the pseudo already exists\n        code_check = scores[pseudo]['code']        # if pseudo exists, we ask the matching code given by the player\n        while pseudo in pseudo_check and code not in code_check:   # check if the code matches with the code registered / to avoid using twice a pseudo  \n            print(\"Ce pseudo existe déjà et le code de confirmation ne correspond pas. Choisis-en un autre !\")\n            pseudo = input(\"Choisis ton pseudo : \")\n            code = input(\"Choisis un code pour confirmer ton pseudo lors d'un prochain passage sur le jeu :\")\n            print()\n        else:      # if player has already played to the game, matching welcome below\n            print(green(\"Bonjour {} !\".format(pseudo), 'bold'))\n            time.sleep(1)\n            print(green('Bienvenue de nouveau au jeu du pendu !', 'bold'))\n            print()\n            time.sleep(1)\n            print(green(\"Prêt(e) à tenter de battre ton record et peut-être le record du jeu ?\"))\n            print()\n            time.sleep(1)   \n    else:          # if new player, matching welcome below\n        print(green(\"Bonjour {} !\".format(pseudo), 'bold'))\n        time.sleep(1)\n        print(green('Bienvenue au jeu du pendu !', 'bold'))\n        print()\n        time.sleep(1)\n        print(green(\"Prêt(e) à commencer et à tenter de battre le record du jeu ?\"))\n        print()\n        time.sleep(1)",
   "execution_count": null,
   "outputs": []
  },
  {
   "cell_type": "code",
   "metadata": {
    "tags": [],
    "cell_id": "00004-c1db1961-3743-4769-9dad-aa3151ab1b59",
    "deepnote_to_be_reexecuted": false,
    "source_hash": "ebbd6e73",
    "execution_start": 1636837435988,
    "execution_millis": 1,
    "deepnote_cell_type": "code"
   },
   "source": "# update file scores function \n\ndef update_scores(pseudo, player):\n    scores.pop(pseudo)       # delete previous data for pseudo\n    scores.update(player)    # add new data for pseudo\n    file_scores = open(\"scores.json\",\"wt\")\n    file_scores.write(json.dumps(scores))\n    file_scores.close()\n\ndef update_scores_new_player(pseudo, player):\n    scores.update(player)    # add new data for pseudo\n    file_scores = open(\"scores.json\",\"wt\")\n    file_scores.write(json.dumps(scores))\n    file_scores.close()",
   "execution_count": null,
   "outputs": []
  },
  {
   "cell_type": "code",
   "metadata": {
    "tags": [],
    "cell_id": "00005-03018251-ee75-49c0-8211-f3c514c0120d",
    "deepnote_to_be_reexecuted": false,
    "source_hash": "85f7fafa",
    "execution_start": 1636838247919,
    "execution_millis": 0,
    "deepnote_cell_type": "code"
   },
   "source": "# game scores function to update scores files and congratulate the player accordingly to his situation\n\ndef game_scores(pseudo, code, score, count, scores):\n    pseudo_check = [key for (key, value) in scores.items() if key == pseudo]   # list with pseudo if it already exists\n    best_pseudo = max(scores, key=lambda x: scores[x][\"score\"])\n    best_score = scores[best_pseudo]['score']\n    best_count = scores[best_pseudo]['count']\n    player = {pseudo: {'code': code, 'score': score, 'count': count}}         # player's data after the game in progress\n    if pseudo == best_pseudo:    # if the player is the best player of the game, matching congratulations below\n        if score > best_score:   # if he beat his score\n            print(magenta('Bravo {}, tu as battu ton record personnel et le record du jeu !'.format(pseudo)))\n            print(magenta('Le nouveau record est de {} points en {} tentatives.'.format(score, count)))\n            update_scores(pseudo, player)\n        elif score == best_score and count < best_count:   # if he equalised his best score and beat his best number of attempts to get it\n            print(magenta('Bravo {}, tu as égalisé ton record personnel et le record du jeu avec moins de tentatives.'.format(pseudo)))\n            print(magenta('Le record de points reste {} avec un nombre de tentatives de {} au lieu de {}.'.format(best_score, count, best_count)))\n            update_scores(pseudo, player)\n        else:      # if he didn't beat his best score\n            print(magenta('Belle partie {} !'.format(pseudo)))\n            print(magenta(\"Tu n'as pas battu ton record personnel mais tu restes le détenteur du record du jeu avec {} points en {} tentatives.\".format(best_score, best_count)))\n    elif pseudo in pseudo_check:      # if the player has already played before but is not the best player, matching congratulations below\n        score_check = scores[pseudo]['score']\n        count_check = scores[pseudo]['count']\n        if score > best_score:      # if he beat the best score of the game\n            print(magenta('Bravo {}, tu as battu ton record personnel et le record du jeu !'.format(pseudo)))\n            print(magenta('Le nouveau record est de {} points en {} tentatives.'.format(score, count)))\n            update_scores(pseudo, player)\n        elif score > score_check:   # if he beat his best score but not the best score of the game                \n            print(magenta('Bravo {}, tu as battu ton record personnel !'.format(pseudo)))\n            print(magenta('Ton nouveau record est de {} points en {} tentatives.'.format(score, count)))\n            print()\n            time.sleep(1)\n            print('Le record du jeu est de {} points en {} tentatives et est détenu par {}.'.format(best_score, best_count, best_pseudo))\n            print('Joue une nouvelle partie et tente de le battre !')\n            update_scores(pseudo, player)\n        elif score == best_score and count < best_count:    # if he equalised the best score and beat the best number of attempts to get it\n            print(magenta('Bravo {}, tu as battu ton record personnel et égalisé le record du jeu avec moins de tentatives.'.format(pseudo)))\n            print(magenta('Tu es le nouveau détenteur du record de points de {} avec un nombre de tentatives de {} au lieu de {}.'.format(best_score, count, best_count)))\n            update_scores(pseudo, player)\n        elif score == score_check and count < count_check:  # if the he equalised his best score and beat his best number of attempts to get it\n            print(magenta('Bravo {}, tu as égalisé ton record personnel avec moins de tentatives.'.format(pseudo)))\n            print(magenta('Ton record de points reste {} avec un nombre de tentatives de {} au lieu de {}.'.format(score_check, count, count_check)))\n            print()\n            time.sleep(1)\n            print('Le record du jeu est de {} points en {} tentatives et est détenu par {}.'.format(best_score, best_count, best_pseudo))\n            print('Joue une nouvelle partie et tente de le battre !')\n            update_scores(pseudo, player)\n        else:    # if the player didn't beat the best score of the game or his best score\n            print(\"Belle partie {} ! Malheureusement, tu n'as pas battu ton record personnel.\".format(pseudo)) \n            print('Ton record est de {} points en {} tentatives.'.format(score_check, count_check))\n            print()\n            time.sleep(1)\n            print('Le record du jeu est de {} points en {} tentatives et est détenu par {}.'.format(best_score, best_count, best_pseudo))\n            print('Joue une nouvelle partie et tente de le battre !')\n    else:   # if the player is a new player, matching congratulations below\n        if score > best_score:    # if he beat the best score of the game\n            print(magenta('Bravo {}, tu as battu le record du jeu à ta première participation !'.format(pseudo)))\n            print(magenta('Le nouveau record est de {} points en {} tentatives.'.format(score, count)))\n            update_scores_new_player(pseudo, player)\n        elif score == best_score and count < best_count:    # if he equalised the best score of the game and beat the best number of attempts to get it\n            print(magenta('Bravo {}, tu as égalisé le record du jeu avec moins de tentatives à ta première participation !'.format(pseudo)))\n            print(magenta('Tu es le nouveau détenteur du record de points de {} avec un nombre de tentatives de {} au lieu de {}.'.format(best_score, count, best_count)))\n            update_scores_new_player(pseudo, player)\n        else:     # if he didn't beat the best score of the game, registration of his first score as his best score\n            print(magenta('Belle partie {} ! Ton record personnel est de {} points en {} tentatives '.format(pseudo, score, count)))\n            print()\n            time.sleep(1)\n            print('Le record du jeu est de {} points en {} tentatives et est détenu par {}.'.format(best_score, best_count, best_pseudo))\n            print('Joue une nouvelle partie et tente de le battre !')\n            update_scores_new_player(pseudo, player)",
   "execution_count": null,
   "outputs": []
  },
  {
   "cell_type": "code",
   "metadata": {
    "tags": [],
    "cell_id": "00003-7f145bae-4362-4b27-803d-a1e0ddf521f8",
    "deepnote_to_be_reexecuted": false,
    "source_hash": "81e26524",
    "execution_start": 1636840134959,
    "execution_millis": 1,
    "deepnote_cell_type": "code"
   },
   "source": "# game function\n\ndef game():\n    word = word_selection(words_list)\n    word = word.upper()\n    word_len = word_length(word) * (word_shape() + \" \")\n    used_letter = []\n    hangman_drawings = [f1, f2, f3, f4, f5, f6, f7, f8, f9, dead_func]\n    chance = 9   # counter of chances before game over\n    x = 0        # counter to lauch the correct hangman_drawings\n    score = 0    # score counter\n    bonus = 0    # bonus counter to give additional points for succession of good letters\n    malus = 0    # malus counter to deduce points for succession of bad letters\n    malus_lettre_donnée = 0   # counter of letter of repetition to inform before deducing points\n    count = 0    # attempts counter\n    print('Super ! Alors voici le mot que nous cherchons :', word_len)\n    print()\n    time.sleep(1)\n    while chance > 0:\n        letter = (input('Choisis une lettre :'))\n        letter = letter.upper()\n        print(letter)\n        count += 1\n        if letter not in word and letter.isalpha() and len(letter) == 1 and letter not in used_letter:    # if the player gave a letter not the word\n            chance -= 1\n            score -= 3\n            malus += 1\n            bonus = 0    # reset of bonus as succession of good letters is interrupted\n            print(\"Pas de chance, la lettre ne fait pas partie du mot cherché, tu perds 3 points.\")\n            time.sleep(1)\n            if malus in range(3, 1000, 2):    # when 3, 5, 7 etc successive wrong letters, deduction of a points malus\n                malus2 = malus * 3\n                score -= malus2\n                print('Tu as manqué {} essais en suivant ! Tu perds {} points additionnels !'.format(malus, malus2))\n                time.sleep(1)\n            print('Ton score est de {} point(s).'.format(score))\n            print()\n            time.sleep(1)\n            used_letter.append(letter)\n            hangman_drawings[x]()     # updating the printing of the hangman\n            x += 1\n            print(\"Le mot cherché jusqu'à maintenant : {}\".format(word_len))   # showing the word with letters already found\n            print()\n            time.sleep(1)\n        elif letter in word and letter.isalpha() and len(letter) == 1 and letter not in used_letter:   # if a letter is found\n            print(\"Bien joué, tu as trouvé une lettre. Tu gagnes 5 points !\", emoji.emojize(\":clapping_hands:\"))\n            time.sleep(1)\n            used_letter.append(letter)\n            malus = 0    # reset of malus as succession of bad letters is interrupted\n            score += 5\n            bonus += 1\n            if bonus in range(3, 1000, 2):     # when 3, 5, 7 etc successive good letters, addition of bonus points\n                bonus2 = bonus * 5\n                score += bonus2\n                print('Bravo ! Tu as trouvé {} lettres en suivant ! Tu gagnes {} points de bonus ! '.format(bonus, bonus2), emoji.emojize(\":smiling_face_with_sunglasses:\"))\n                time.sleep(1)\n            print('Ton score est de {} point(s).'.format(score))\n            print()\n            time.sleep(1)\n            for i in range(0, len(word)):   # to update the word with the letter found\n                if word[i] == letter:\n                    l = list(word_len)     \n                    i += (1*i)             # to get the correct index taking count of the spaces\n                    l[i] = letter\n                    word_len = \"\".join(l)  # to get the updated secret word with the last letter found\n            print(\"Le mot cherché jusqu'à maintenant : {}\".format(word_len))   # showing the word with letters already found\n            print()\n            time.sleep(1)\n            if word_len.replace(\" \", \"\") == word: # to check if the word is found (deleting spaces in word_len to check the match)\n                score += 250\n                print(emoji.emojize(\":partying_face:\"), emoji.emojize(\":partying_face:\"), emoji.emojize(\":partying_face:\"), \n                magenta(\"Bravo {} ! Tu as réussi ! Le mot était {}. Tu gagnes 250 points ! Ton score final est de {} points !\".format(pseudo, word, score), 'bold'),\n                emoji.emojize(\":partying_face:\"), emoji.emojize(\":partying_face:\"), emoji.emojize(\":partying_face:\"))\n                print()\n                time.sleep(1)\n                game_scores(pseudo, code, score, count, scores)   # launch of the game scores function to keep player score \n                break  # break first loop\n            else:\n                continue\n            break   # break 2nd loop\n        elif (letter in word or letter not in word) and letter.isalpha() and len(letter) == 1 and letter in used_letter:   # if letter already given\n            bonus = 0    # reset of bonus as succession of good letters is interrupted\n            malus = 0    # reset of malus as succession of bad letters is interrupted\n            malus_lettre_donnée += 1\n            print(\"Lettre déjà donnée !\")\n            time.sleep(1)\n            print(\"Pour rappel, les lettres déjà données sont :\", used_letter )  # reminder of letters already given\n            print()\n            time.sleep(1)\n            if malus_lettre_donnée == 1:\n                print('Attention, aux prochaines répétitions de lettre, des points te seront enlevés !')  # 1st warning for letter repetition\n            else:\n                score -= 10    # deduction of 10 points for letter repeated after the first repetition (only warning the fist time)\n                print('Tu as donné {} fois une lettre déjà donnée. Tu perds 10 points !'.format(malus_lettre_donnée))\n                print('Ton score est de {} point(s).'.format(score))\n            print()\n            time.sleep(1)\n        else:\n            print(\"Saisie incorrecte, merci de saisir une lettre\")\n            print()\n    else:\n        hangman_drawings[x](pseudo)\n           ",
   "execution_count": null,
   "outputs": []
  },
  {
   "cell_type": "code",
   "metadata": {
    "tags": [],
    "deepnote_to_be_reexecuted": false,
    "source_hash": "52d9bef2",
    "execution_start": 1636841188358,
    "execution_millis": 20772,
    "cell_id": "00001-56a52bb0-aa4a-4d54-90ff-9acb1416f998",
    "output_cleared": false,
    "deepnote_cell_type": "code"
   },
   "source": "pseudo = input(\"Choisis ton pseudo : \")\ncode = input(\"choisis un code pour confirmer ton pseudo lors d'un prochain passage sur le jeu :\")\n\nfile_scores = open(\"scores.json\",\"rt\")\nscores = json.loads(file_scores.read())\nfile_scores.close()\n\nwelcome(pseudo, code, scores)    # launching of the welcome function of the game\n\nconfirmation = input('Saisis oui pour commencer le jeu :')\nif confirmation == 'oui':        # to control the launch of the game\n    game()\nelse: \n    print('Déjà parti(e) ? Quel dommage ! A une prochaine fois {} !'.format(pseudo))",
   "execution_count": null,
   "outputs": [
    {
     "name": "stdout",
     "text": "\u001b[1;32mBonjour Patricia !\u001b[0m\n\u001b[1;32mBienvenue au jeu du pendu !\u001b[0m\n\n\u001b[32mPrêt(e) à commencer et à tenter de battre le record du jeu ?\u001b[0m\n\nDéjà parti(e) ? Quel dommage ! A une prochaine fois Patricia !\n",
     "output_type": "stream"
    }
   ]
  },
  {
   "cell_type": "markdown",
   "source": "<a style='text-decoration:none;line-height:16px;display:flex;color:#5B5B62;padding:10px;justify-content:end;' href='https://deepnote.com?utm_source=created-in-deepnote-cell&projectId=d8cb51e7-f504-4454-9b30-5360b35b0cfc' target=\"_blank\">\n<img alt='Created in deepnote.com' style='display:inline;max-height:16px;margin:0px;margin-right:7.5px;' src='data:image/svg+xml;base64,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' > </img>\nCreated in <span style='font-weight:600;margin-left:4px;'>Deepnote</span></a>",
   "metadata": {
    "tags": [],
    "created_in_deepnote_cell": true,
    "deepnote_cell_type": "markdown"
   }
  }
 ],
 "nbformat": 4,
 "nbformat_minor": 2,
 "metadata": {
  "orig_nbformat": 2,
  "deepnote": {
   "is_reactive": false
  },
  "deepnote_notebook_id": "c3f78900-f2c7-4081-9ac1-cfa463d7132d",
  "deepnote_execution_queue": []
 }
}